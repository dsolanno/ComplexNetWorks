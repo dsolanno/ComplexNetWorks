{
 "cells": [
  {
   "cell_type": "markdown",
   "metadata": {},
   "source": [
    "# UB DataScience: Complex networks\n",
    "## Final delivery: Barcelona bus network\n",
    "\n",
    "\n",
    "\n",
    "<br>\n",
    "### David Solans & Gerard Martinez"
   ]
  },
  {
   "cell_type": "code",
   "execution_count": 9,
   "metadata": {},
   "outputs": [],
   "source": [
    "# Required Python imports\n",
    "import pandas as pd\n",
    "import numpy as np\n",
    "import networkx as nx\n",
    "import pickle\n",
    "import geopandas as gpd\n",
    "import matplotlib.pyplot as plt\n",
    "plt.style.use('seaborn')\n",
    "\n",
    "## Required for data scrapping\n",
    "import urllib.request\n",
    "from bs4 import BeautifulSoup\n",
    "from selenium import webdriver\n",
    "\n",
    "%matplotlib inline"
   ]
  },
  {
   "cell_type": "markdown",
   "metadata": {},
   "source": [
    "### Obtaining the data"
   ]
  },
  {
   "cell_type": "markdown",
   "metadata": {},
   "source": [
    "### Data exploration"
   ]
  },
  {
   "cell_type": "markdown",
   "metadata": {},
   "source": [
    "### Macroscale\n",
    "* Average shortest path\n",
    "* Comparación \n",
    "* Radio\n",
    "* Diametro\n",
    "* Node centralities\n",
    "* Degree\n",
    "* Betweeness\n",
    "* Closeness\n",
    "* Periphery + plot"
   ]
  },
  {
   "cell_type": "markdown",
   "metadata": {},
   "source": [
    "### Microscale"
   ]
  },
  {
   "cell_type": "markdown",
   "metadata": {},
   "source": [
    "* Clustering (?)\n",
    "\n"
   ]
  },
  {
   "cell_type": "markdown",
   "metadata": {},
   "source": [
    "### Random graphs comparison\n",
    "* Connected Watts Strotgaz\n",
    "* Erdos Renyi\n",
    "* Barabsi Albert"
   ]
  },
  {
   "cell_type": "code",
   "execution_count": null,
   "metadata": {},
   "outputs": [],
   "source": [
    "### Mesoscale\n",
    "* Community detection\n",
    "** Cliques\n",
    "** Label propagation\n",
    "** Fluid communities\n",
    "** Louvain\n",
    "** Girvan Newman"
   ]
  },
  {
   "cell_type": "markdown",
   "metadata": {},
   "source": [
    "### Dynamic models\n",
    "* Dynamic modelsReplicar semana 6 -> Simular infección (modelo dinámico) en dos paradas (mayor centrality, menor centrality). Comparar resultados tras 1000 iteraciones (10 ejecuciones para sacar medias).\n",
    "* Voter model\n",
    "* Diffusion model"
   ]
  },
  {
   "cell_type": "code",
   "execution_count": null,
   "metadata": {},
   "outputs": [],
   "source": []
  }
 ],
 "metadata": {
  "kernelspec": {
   "display_name": "Python 3",
   "language": "python",
   "name": "python3"
  },
  "language_info": {
   "codemirror_mode": {
    "name": "ipython",
    "version": 3
   },
   "file_extension": ".py",
   "mimetype": "text/x-python",
   "name": "python",
   "nbconvert_exporter": "python",
   "pygments_lexer": "ipython3",
   "version": "3.5.1"
  }
 },
 "nbformat": 4,
 "nbformat_minor": 2
}
