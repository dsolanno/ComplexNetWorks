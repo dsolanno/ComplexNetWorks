{
 "cells": [
  {
   "cell_type": "markdown",
   "metadata": {},
   "source": [
    "# UB DataScience: Complex networks\n",
    "### David Solans & Gerard Martinez"
   ]
  },
  {
   "cell_type": "code",
   "execution_count": 9,
   "metadata": {},
   "outputs": [],
   "source": [
    "\n",
    "import networkx as nx\n",
    "import matplotlib.pyplot as plt\n",
    "from multiprocessing import Pool\n",
    "import itertools\n",
    "from networkx.algorithms import community\n",
    "import collections\n",
    "import numpy as np\n",
    "import pickle\n",
    "import operator\n",
    "import folium\n",
    "from scipy.optimize import curve_fit\n",
    "\n",
    "plt.style.use('seaborn')\n",
    "\n",
    "%matplotlib inline"
   ]
  },
  {
   "cell_type": "markdown",
   "metadata": {},
   "source": [
    "## Loading data"
   ]
  },
  {
   "cell_type": "code",
   "execution_count": 10,
   "metadata": {},
   "outputs": [],
   "source": [
    "G_transport = nx.read_edgelist(\"barcelona_transport.edgelist\", create_using = nx.Graph(), nodetype = int)\n",
    "G_bus = nx.read_edgelist(\"barcelona_bus.edgelist\", create_using = nx.Graph(), nodetype = int)\n",
    "G_metro = nx.read_edgelist(\"barcelona_metro.edgelist\", create_using = nx.Graph(), nodetype = int)"
   ]
  },
  {
   "cell_type": "code",
   "execution_count": 11,
   "metadata": {},
   "outputs": [],
   "source": [
    "def load_obj(name ):\n",
    "    with open(name + '.pkl', 'rb') as f:\n",
    "        return pickle.load(f)"
   ]
  },
  {
   "cell_type": "code",
   "execution_count": 12,
   "metadata": {},
   "outputs": [],
   "source": [
    "bus_stations_properties = load_obj(\"bus_stations_properties\")"
   ]
  },
  {
   "cell_type": "markdown",
   "metadata": {},
   "source": [
    "## Week 6 - "
   ]
  },
  {
   "cell_type": "markdown",
   "metadata": {},
   "source": [
    "### Random walk"
   ]
  },
  {
   "cell_type": "code",
   "execution_count": 13,
   "metadata": {},
   "outputs": [],
   "source": [
    "restart_prob=0.5 #To be checked\n",
    "M = nx.adjacency_matrix(G_bus) #obtain the adj. matrix for the graph\n",
    "#normalise the adjacency matrix\n",
    "for i in range(M.shape[1]):\n",
    "    if (np.sum(M[i]) > 0):\n",
    "        M[i] = M[i]/np.sum(M[i])\n",
    "p = 0#generate a random number between 0 and 1\n",
    "if p < restart_prob:\n",
    "    #do restart\n",
    "    pass\n",
    "else:\n",
    "    #choose next node\n",
    "    pass"
   ]
  },
  {
   "cell_type": "markdown",
   "metadata": {},
   "source": [
    "### Kuramoto"
   ]
  },
  {
   "cell_type": "markdown",
   "metadata": {},
   "source": [
    "### Dynamic process"
   ]
  },
  {
   "cell_type": "code",
   "execution_count": null,
   "metadata": {},
   "outputs": [],
   "source": []
  }
 ],
 "metadata": {
  "kernelspec": {
   "display_name": "Python 3",
   "language": "python",
   "name": "python3"
  },
  "language_info": {
   "codemirror_mode": {
    "name": "ipython",
    "version": 3
   },
   "file_extension": ".py",
   "mimetype": "text/x-python",
   "name": "python",
   "nbconvert_exporter": "python",
   "pygments_lexer": "ipython3",
   "version": "3.6.4"
  }
 },
 "nbformat": 4,
 "nbformat_minor": 2
}
