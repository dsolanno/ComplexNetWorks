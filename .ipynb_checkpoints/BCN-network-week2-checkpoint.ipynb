{
 "cells": [
  {
   "cell_type": "markdown",
   "metadata": {},
   "source": [
    "# UB DataScience: Complex networks\n",
    "### David Solans & Gerard Martinez"
   ]
  },
  {
   "cell_type": "code",
   "execution_count": 1,
   "metadata": {},
   "outputs": [],
   "source": [
    "\n",
    "import networkx as nx\n",
    "import matplotlib.pyplot as plt\n",
    "from multiprocessing import Pool\n",
    "import itertools\n",
    "from networkx.algorithms import community\n",
    "import collections\n",
    "import numpy as np\n",
    "import pickle\n",
    "import operator\n",
    "import folium\n",
    "\n",
    "plt.style.use('seaborn')\n",
    "\n",
    "%matplotlib inline"
   ]
  },
  {
   "cell_type": "markdown",
   "metadata": {},
   "source": [
    "## Loading data"
   ]
  },
  {
   "cell_type": "code",
   "execution_count": 2,
   "metadata": {},
   "outputs": [],
   "source": [
    "G_transport = nx.read_edgelist(\"barcelona_transport.edgelist\", create_using = nx.Graph(), nodetype = int)\n",
    "G_bus = nx.read_edgelist(\"barcelona_bus.edgelist\", create_using = nx.Graph(), nodetype = int)\n",
    "G_metro = nx.read_edgelist(\"barcelona_metro.edgelist\", create_using = nx.Graph(), nodetype = int)"
   ]
  },
  {
   "cell_type": "code",
   "execution_count": 3,
   "metadata": {},
   "outputs": [],
   "source": [
    "def load_obj(name ):\n",
    "    with open(name + '.pkl', 'rb') as f:\n",
    "        return pickle.load(f)"
   ]
  },
  {
   "cell_type": "code",
   "execution_count": 4,
   "metadata": {},
   "outputs": [
    {
     "name": "stdout",
     "output_type": "stream",
     "text": [
      "Name: \n",
      "Type: Graph\n",
      "Number of nodes: 2497\n",
      "Number of edges: 3296\n",
      "Average degree:   2.6400\n"
     ]
    }
   ],
   "source": [
    "#Quick snapshot of the Network\n",
    "print(nx.info(G_transport))"
   ]
  },
  {
   "cell_type": "code",
   "execution_count": 5,
   "metadata": {},
   "outputs": [
    {
     "name": "stdout",
     "output_type": "stream",
     "text": [
      "Average separation of nodes: 8.72475195847366\n"
     ]
    }
   ],
   "source": [
    "# Average separation of nodes for transport graph\n",
    "node_distances = []\n",
    "for g in nx.connected_component_subgraphs(G_transport): \n",
    "    node_distances.append(nx.average_shortest_path_length(g)) \n",
    "\n",
    "    \n",
    "print(\"Average separation of nodes: {}\".format(np.mean(node_distances)))"
   ]
  },
  {
   "cell_type": "code",
   "execution_count": 6,
   "metadata": {},
   "outputs": [
    {
     "name": "stdout",
     "output_type": "stream",
     "text": [
      "Name: \n",
      "Type: Graph\n",
      "Number of nodes: 2469\n",
      "Number of edges: 3127\n",
      "Average degree:   2.5330\n"
     ]
    }
   ],
   "source": [
    "#Quick snapshot of the Network\n",
    "print(nx.info(G_bus))"
   ]
  },
  {
   "cell_type": "code",
   "execution_count": 7,
   "metadata": {},
   "outputs": [
    {
     "name": "stdout",
     "output_type": "stream",
     "text": [
      "Average separation of nodes in metro network: 6.405542040656544\n"
     ]
    }
   ],
   "source": [
    "# Average separation of nodes in metro\n",
    "node_distances_metro = []\n",
    "for g in nx.connected_component_subgraphs(G_metro): \n",
    "    node_distances_metro.append(nx.average_shortest_path_length(g)) \n",
    "\n",
    "    \n",
    "print(\"Average separation of nodes in metro network: {}\".format(np.mean(node_distances_metro)))"
   ]
  },
  {
   "cell_type": "code",
   "execution_count": 8,
   "metadata": {},
   "outputs": [
    {
     "name": "stdout",
     "output_type": "stream",
     "text": [
      "Name: \n",
      "Type: Graph\n",
      "Number of nodes: 156\n",
      "Number of edges: 169\n",
      "Average degree:   2.1667\n"
     ]
    }
   ],
   "source": [
    "#Quick snapshot of the Network\n",
    "print(nx.info(G_metro))"
   ]
  },
  {
   "cell_type": "code",
   "execution_count": 9,
   "metadata": {},
   "outputs": [
    {
     "name": "stdout",
     "output_type": "stream",
     "text": [
      "Average separation of nodes in bus network: 9.731034826202404\n"
     ]
    }
   ],
   "source": [
    "# Average separation of nodes in bus\n",
    "node_distances_bus = []\n",
    "for g in nx.connected_component_subgraphs(G_bus): \n",
    "    node_distances_bus.append(nx.average_shortest_path_length(g)) \n",
    "\n",
    "    \n",
    "print(\"Average separation of nodes in bus network: {}\".format(np.mean(node_distances_bus)))"
   ]
  },
  {
   "cell_type": "markdown",
   "metadata": {},
   "source": [
    "### Selected network: BUS\n",
    "\n",
    "We've selected the bus network because it's large enough and it's not conected to the metro network in the source where the data is obtained from"
   ]
  },
  {
   "cell_type": "markdown",
   "metadata": {},
   "source": [
    "## 01: Matrices"
   ]
  },
  {
   "cell_type": "markdown",
   "metadata": {},
   "source": [
    "### Exploratory Data Analysis"
   ]
  },
  {
   "cell_type": "code",
   "execution_count": 10,
   "metadata": {},
   "outputs": [],
   "source": [
    "nodes = list(G_bus.nodes())"
   ]
  },
  {
   "cell_type": "code",
   "execution_count": 11,
   "metadata": {},
   "outputs": [],
   "source": [
    "bus_stations_properties = load_obj(\"bus_stations_properties\")"
   ]
  },
  {
   "cell_type": "code",
   "execution_count": 12,
   "metadata": {},
   "outputs": [],
   "source": [
    "bus_stops_coords = []\n",
    "bus_stops_names = []\n",
    "bus_stops_coords_lats = []\n",
    "bus_stops_coords_lngs = []\n",
    "for bs in bus_stations_properties.values():\n",
    "    bus_stops_coords.append([bs['lat'], bs['lon']])\n",
    "    bus_stops_coords_lats.append(float(bs['lat']))\n",
    "    bus_stops_coords_lngs.append(float(bs['lon']))\n",
    "    bus_stops_names.append(bs['street_name'])"
   ]
  },
  {
   "cell_type": "code",
   "execution_count": 13,
   "metadata": {},
   "outputs": [
    {
     "data": {
      "text/plain": [
       "41.3985182"
      ]
     },
     "execution_count": 13,
     "metadata": {},
     "output_type": "execute_result"
    }
   ],
   "source": [
    "bus_stops_coords_lats[0]"
   ]
  },
  {
   "cell_type": "code",
   "execution_count": null,
   "metadata": {},
   "outputs": [
    {
     "data": {
      "text/plain": [
       "['Almogàvers-Àvila',\n",
       " 'Av Icària-Bogatell',\n",
       " 'València-Muntaner',\n",
       " 'Mallorca-Aribau',\n",
       " 'Universitat Central',\n",
       " 'Pl Universitat-Balmes',\n",
       " 'Pl Universitat-Aribau',\n",
       " 'Pl de Carles Buïgas',\n",
       " 'Josep Soldevila - Doctor Santponç',\n",
       " 'Josep Soldevila - Sant Adrià']"
      ]
     },
     "execution_count": 14,
     "metadata": {},
     "output_type": "execute_result"
    }
   ],
   "source": [
    "bus_stops_names[:10]"
   ]
  },
  {
   "cell_type": "code",
   "execution_count": null,
   "metadata": {},
   "outputs": [],
   "source": [
    "## Plotting the bus stops on a map\n",
    "map_osm = folium.Map(location=[41.387084, 2.169792], zoom_start=12)\n",
    "    \n",
    "for lng, lat in zip(bus_stops_coords_lngs,\n",
    "                         bus_stops_coords_lats):\n",
    "    folium.Circle([lat, lng], radius=50).add_to(map_osm)\n",
    "    \n",
    "map_osm"
   ]
  },
  {
   "cell_type": "code",
   "execution_count": null,
   "metadata": {},
   "outputs": [],
   "source": [
    "bus_edges_list = []\n",
    "for e in G_bus.edges():\n",
    "    l = []\n",
    "    if(e[0] in bus_stations_properties and e[1] in bus_stations_properties):\n",
    "        l.append([float(bus_stations_properties[e[0]]['lat']), float(bus_stations_properties[e[0]]['lon'])])\n",
    "        l.append([float(bus_stations_properties[e[1]]['lat']), float(bus_stations_properties[e[1]]['lon'])])\n",
    "        bus_edges_list.append(l)\n",
    "bus_edges_list[0]"
   ]
  },
  {
   "cell_type": "code",
   "execution_count": null,
   "metadata": {},
   "outputs": [],
   "source": [
    "#Check: https://github.com/python-visualization/folium/blob/master/examples/Polyline_text_path.ipynb\n",
    "map_osm = folium.Map(location=[41.387084, 2.169792], zoom_start=12)\n",
    " \n",
    "\"\"\"    \n",
    "for lng, lat in zip(bus_stops_coords_lngs,\n",
    "                         bus_stops_coords_lats):\n",
    "    folium.Circle([lat, lng], radius=50).add_to(map_osm)\n",
    "\"\"\"\n",
    "    \n",
    "\n",
    "for e in bus_edges_list:\n",
    "    folium.PolyLine(e,  weight=1).add_to(map_osm)\n",
    "        \n",
    "map_osm"
   ]
  },
  {
   "cell_type": "code",
   "execution_count": null,
   "metadata": {},
   "outputs": [],
   "source": [
    "#Auxiliary function to plot color categories\n",
    "def plotNetwork(G, node_categories, colormap=\"jet\", pos=None):\n",
    "    plt.axis(\"off\")\n",
    "    if pos == None:\n",
    "        pos = spring_pos = nx.spring_layout(G)\n",
    "    nx.draw_networkx(G, pos = pos, cmap = plt.get_cmap(colormap), node_color = node_categories, node_size = 35, with_labels = False)"
   ]
  },
  {
   "cell_type": "code",
   "execution_count": null,
   "metadata": {},
   "outputs": [],
   "source": [
    "#Create network layout for visualizations\n",
    "spring_pos = nx.spring_layout(G_bus)"
   ]
  },
  {
   "cell_type": "code",
   "execution_count": null,
   "metadata": {},
   "outputs": [],
   "source": [
    "plotNetwork(G_bus, [0]*len(nodes),pos=spring_pos)"
   ]
  },
  {
   "cell_type": "markdown",
   "metadata": {},
   "source": [
    "# --------- Week 2 --------- "
   ]
  },
  {
   "cell_type": "markdown",
   "metadata": {},
   "source": [
    "## 02: Local characterization"
   ]
  },
  {
   "cell_type": "code",
   "execution_count": null,
   "metadata": {},
   "outputs": [],
   "source": [
    "# Kantz centrality\n",
    "kantx_centrality = nx.katz_centrality(G_bus)\n",
    "plt.hist(list(kantx_centrality.values()), bins=100)  # histogram with 100 bins\n",
    "plt.show()"
   ]
  },
  {
   "cell_type": "code",
   "execution_count": null,
   "metadata": {},
   "outputs": [],
   "source": [
    "pos = nx.spring_layout(G_bus)\n",
    "plt.figure(figsize=(20,10))\n",
    "\n",
    "plt.subplot(121)\n",
    "plt.axis('off')\n",
    "nx.draw_networkx_edges(G_bus, pos=pos, edge_color='#c1c1c1', alpha=.3)\n",
    "scores = dict(kantx_centrality)\n",
    "nodelist = sorted(G_bus.nodes(), key=lambda n: scores[n])\n",
    "ncolor = np.asarray([scores[n] for n in nodelist])\n",
    "nodes = nx.draw_networkx_nodes(G_bus, nodelist=nodelist, pos=pos, node_size=150, cmap=plt.cm.jet, node_color=ncolor, alpha=0.7)\n",
    "plt.colorbar(nodes, cmap=plt.cm.jet, orientation='horizontal')\n",
    "\n",
    "plt.subplot(122)\n",
    "score_array = np.array(list(scores.values()))\n",
    "plt.hist(score_array,bins=100)\n",
    "plt.show()"
   ]
  },
  {
   "cell_type": "code",
   "execution_count": null,
   "metadata": {},
   "outputs": [],
   "source": [
    "# Comunicability\n",
    "communicability = nx.communicability(G_bus)"
   ]
  },
  {
   "cell_type": "markdown",
   "metadata": {},
   "source": [
    "## 03 - Macroscale"
   ]
  },
  {
   "cell_type": "markdown",
   "metadata": {},
   "source": [
    "#### Elements disconnected components"
   ]
  },
  {
   "cell_type": "markdown",
   "metadata": {},
   "source": [
    "We identify how many disconnected components components we plot the results in a map."
   ]
  },
  {
   "cell_type": "code",
   "execution_count": null,
   "metadata": {},
   "outputs": [],
   "source": [
    "## We build a list of 3 list that contains the nodes for each of the disconnected components\n",
    "interest_edges = []\n",
    "for i in nx.connected_component_subgraphs(G_bus):\n",
    "    interest_edges.append(i.nodes())\n",
    "\n",
    "compt=0\n",
    "for i in interest_edges:\n",
    "    print('Number of nodes disconnected component',compt+1)\n",
    "    print(len(i))\n",
    "    compt+=1;"
   ]
  },
  {
   "cell_type": "code",
   "execution_count": null,
   "metadata": {},
   "outputs": [],
   "source": [
    "##Nodes in the disconnected component 2 (something strange happens with nodes 3014 anf 2931)#\n",
    "#print('DISCONNEX COMPONENT 2')\n",
    "#for i in interest_edges[1]:\n",
    "#    print(i)\n",
    "#    if i!=3014 and i!=2931:\n",
    "#        print(bus_stations_properties[i]['street_name'])"
   ]
  },
  {
   "cell_type": "markdown",
   "metadata": {},
   "source": [
    "Let's store the latitud and longitud values for the nodes of the disconnected components 1,2,3"
   ]
  },
  {
   "cell_type": "code",
   "execution_count": null,
   "metadata": {},
   "outputs": [],
   "source": [
    "component1=[]\n",
    "bus_stops_coords_lngs_component1=[]\n",
    "bus_stops_coords_lats_components1=[]\n",
    "for i in interest_edges[0]:\n",
    "    try:\n",
    "        bus_stops_coords_lngs_component1.append(float(bus_stations_properties[i]['lon']))\n",
    "        bus_stops_coords_lats_components1.append(float(bus_stations_properties[i]['lat']))\n",
    "    except KeyError:\n",
    "        pass\n",
    "    \n",
    "component2=[]\n",
    "bus_stops_coords_lngs_component2=[]\n",
    "bus_stops_coords_lats_components2=[]\n",
    "for i in interest_edges[1]:\n",
    "    if i!=3014 and i!=2931:\n",
    "        bus_stops_coords_lngs_component2.append(float(bus_stations_properties[i]['lon']))\n",
    "        bus_stops_coords_lats_components2.append(float(bus_stations_properties[i]['lat']))\n",
    "\n",
    "#NAMES Disconnected component 3\n",
    "#print('DISCONNEX COMPONENT 3')\n",
    "#for i in interest_edges[2]:\n",
    "#    print(i)\n",
    "#    if i!=2080 and i!=2082 and i!=2109:\n",
    "#        print(bus_stations_properties[i]['street_name'])\n",
    "\n",
    "component3=[]\n",
    "bus_stops_coords_lngs_component3=[]\n",
    "bus_stops_coords_lats_components3=[]\n",
    "for i in interest_edges[2]:\n",
    "    if i!=2080 and i!=2082 and i!=2109:\n",
    "        bus_stops_coords_lngs_component3.append(float(bus_stations_properties[i]['lon']))\n",
    "        bus_stops_coords_lats_components3.append(float(bus_stations_properties[i]['lat']))"
   ]
  },
  {
   "cell_type": "code",
   "execution_count": null,
   "metadata": {},
   "outputs": [],
   "source": [
    "## Plotting the bus stops on a map\n",
    "map_osm = folium.Map(location=[41.387084, 2.169792], zoom_start=12)\n",
    "\n",
    "\n",
    "for lng, lat in zip(bus_stops_coords_lngs_component1,\n",
    "                         bus_stops_coords_lats_components1):\n",
    "    folium.Circle([lat, lng], radius=50, color='#27cc53').add_to(map_osm)\n",
    "\n",
    "\n",
    "for lng, lat in zip(bus_stops_coords_lngs_component2,\n",
    "                         bus_stops_coords_lats_components2):\n",
    "    folium.Circle([lat, lng], radius=50, color='#3186cc').add_to(map_osm)\n",
    "    ##Blue dots is the disconnected component 2\n",
    "    \n",
    "for lng, lat in zip(bus_stops_coords_lngs_component3,\n",
    "                         bus_stops_coords_lats_components3):\n",
    "    folium.Circle([lat, lng], radius=50,color='#f40101').add_to(map_osm)\n",
    "    ##Red dots is the disconnected component 3\n",
    "    \n",
    "map_osm"
   ]
  },
  {
   "cell_type": "markdown",
   "metadata": {},
   "source": [
    "#### Shortest path"
   ]
  },
  {
   "cell_type": "code",
   "execution_count": null,
   "metadata": {},
   "outputs": [],
   "source": [
    "# Mean shortest path\n",
    "# Average separation of nodes in bus\n",
    "# nx.average_shortest_path_length(G)\n",
    "\n",
    "node_distances_bus = []\n",
    "for g in nx.connected_component_subgraphs(G_bus): \n",
    "    node_distances_bus.append(nx.average_shortest_path_length(g)) \n",
    "\n",
    "\n",
    "print(\"Average separation per connected component: {}\".format(node_distances_bus))\n",
    "print(\"Average separation of nodes in bus network: {}\".format(np.mean(node_distances_bus)))"
   ]
  },
  {
   "cell_type": "markdown",
   "metadata": {},
   "source": [
    "#### Diameter"
   ]
  },
  {
   "cell_type": "code",
   "execution_count": null,
   "metadata": {},
   "outputs": [],
   "source": [
    "#Diameter\n",
    "#nx.diameter(G)\n",
    "\n",
    "node_diametres_bus = []\n",
    "for g in nx.connected_component_subgraphs(G_bus): \n",
    "    node_diametres_bus.append(nx.diameter(g)) \n",
    "\n",
    "   \n",
    "print(\"Diametre per connected component: {}\".format(node_diametres_bus))\n",
    "print(\"Average diameter in bus network: {}\".format(np.mean(node_diametres_bus)))\n",
    "\n"
   ]
  },
  {
   "cell_type": "markdown",
   "metadata": {},
   "source": [
    "#### Radius"
   ]
  },
  {
   "cell_type": "code",
   "execution_count": null,
   "metadata": {},
   "outputs": [],
   "source": [
    "node_radius_bus = []\n",
    "for g in nx.connected_component_subgraphs(G_bus): \n",
    "    node_radius_bus.append(nx.radius(g)) \n",
    "\n",
    "   \n",
    "print(\"Diametre per connected component: {}\".format(node_radius_bus))\n",
    "print(\"Average diameter in bus network: {}\".format(np.mean(node_radius_bus)))"
   ]
  },
  {
   "cell_type": "markdown",
   "metadata": {},
   "source": [
    "#### Center"
   ]
  },
  {
   "cell_type": "markdown",
   "metadata": {},
   "source": [
    "The center is the set of nodes with eccentricity (The eccentricity of a node v is the maximum distance from v to\n",
    "all other nodes in G) equal to radius."
   ]
  },
  {
   "cell_type": "code",
   "execution_count": null,
   "metadata": {},
   "outputs": [],
   "source": [
    "center_bus = []\n",
    "for g in nx.connected_component_subgraphs(G_bus): \n",
    "    center_bus.append(nx.center(g)) \n",
    "\n",
    "print(\"Centers per connected component: {}\".format(center_bus))"
   ]
  },
  {
   "cell_type": "code",
   "execution_count": null,
   "metadata": {},
   "outputs": [],
   "source": [
    "component_center1=[]\n",
    "bus_stops_coords_lngs_component_center1=[]\n",
    "bus_stops_coords_lats_component_center1=[]\n",
    "for j in range(0,len(center_bus)): \n",
    "    for i in center_bus[j]:\n",
    "    #if i!=2080 and i!=2082 and i!=2109:\n",
    "        bus_stops_coords_lngs_component_center1.append(float(bus_stations_properties[i]['lon']))\n",
    "        bus_stops_coords_lats_component_center1.append(float(bus_stations_properties[i]['lat']))"
   ]
  },
  {
   "cell_type": "code",
   "execution_count": null,
   "metadata": {},
   "outputs": [],
   "source": [
    "## Plotting the bus stops on a map\n",
    "map_osm = folium.Map(location=[41.387084, 2.169792], zoom_start=12)\n",
    "\n",
    "\n",
    "for lng, lat in zip(bus_stops_coords_lngs_component_center1[0:len(center_bus[0])],\n",
    "                         bus_stops_coords_lats_component_center1[0:len(center_bus[0])]):\n",
    "    folium.Circle([lat, lng], radius=50, color='#27cc53').add_to(map_osm)\n",
    "\n",
    "\n",
    "for lng, lat in zip(bus_stops_coords_lngs_component_center1[len(center_bus[0]):(len(center_bus[0])+len(center_bus[1]))],\n",
    "                    bus_stops_coords_lats_component_center1[len(center_bus[0]):(len(center_bus[0])+len(center_bus[1]))]):\n",
    "    folium.Circle([lat, lng], radius=50, color='#3186cc').add_to(map_osm)\n",
    "    ##Blue dots is the disconnected component 2\n",
    "    \n",
    "for lng, lat in zip(bus_stops_coords_lngs_component_center1[(len(center_bus[0])+len(center_bus[1])):],\n",
    "                    bus_stops_coords_lats_component_center1[(len(center_bus[0])+len(center_bus[1])):]):\n",
    "    folium.Circle([lat, lng], radius=50,color='#f40101').add_to(map_osm)\n",
    "    ##Red dots is the disconnected component 3\n",
    "    \n",
    "map_osm"
   ]
  },
  {
   "cell_type": "markdown",
   "metadata": {},
   "source": [
    "Let's identify which are the stations of each disconnected components that are in the center."
   ]
  },
  {
   "cell_type": "code",
   "execution_count": null,
   "metadata": {},
   "outputs": [],
   "source": [
    "compt=0\n",
    "for i in center_bus:\n",
    "    print('DISCONNEX COMPONENT',compt+1)\n",
    "    for j in range(0,len(i)):\n",
    "        print(bus_stations_properties[i[j]]['street_name'])\n",
    "    compt+=1;\n",
    "    print('\\n')\n",
    "        "
   ]
  },
  {
   "cell_type": "markdown",
   "metadata": {},
   "source": [
    "#### Periphery"
   ]
  },
  {
   "cell_type": "markdown",
   "metadata": {},
   "source": [
    "The periphery is the set of nodes with eccentricity equal to the diameter."
   ]
  },
  {
   "cell_type": "code",
   "execution_count": null,
   "metadata": {},
   "outputs": [],
   "source": [
    "node_periphery_bus = []\n",
    "for g in nx.connected_component_subgraphs(G_bus): \n",
    "    node_periphery_bus.append(nx.periphery(g)) \n",
    "\n",
    "   \n",
    "print(\"Periphery per connected component: {}\".format(node_periphery_bus))\n",
    "#print(\"Average diameter in bus network: {}\".format(np.mean(node_periphery_bus)))"
   ]
  },
  {
   "cell_type": "code",
   "execution_count": null,
   "metadata": {},
   "outputs": [],
   "source": [
    "component_periphery=[]\n",
    "bus_stops_coords_lngs_component_periphery=[]\n",
    "bus_stops_coords_lats_component_periphery=[]\n",
    "for j in range(0,len(node_periphery_bus)): \n",
    "    for i in node_periphery_bus[j]:\n",
    "        try:\n",
    "            bus_stops_coords_lngs_component_periphery.append(float(bus_stations_properties[i]['lon']))\n",
    "            bus_stops_coords_lats_component_periphery.append(float(bus_stations_properties[i]['lat']))\n",
    "        except KeyError:\n",
    "            pass"
   ]
  },
  {
   "cell_type": "code",
   "execution_count": null,
   "metadata": {},
   "outputs": [],
   "source": [
    "## Plotting the bus stops on a map\n",
    "map_osm = folium.Map(location=[41.387084, 2.169792], zoom_start=12)\n",
    "\n",
    "\n",
    "for lng, lat in zip(bus_stops_coords_lngs_component_periphery[0:len(node_periphery_bus[0])],\n",
    "                         bus_stops_coords_lats_component_periphery[0:len(node_periphery_bus[0])]):\n",
    "    folium.Circle([lat, lng], radius=50, color='#27cc53').add_to(map_osm)\n",
    "\n",
    "\n",
    "for lng, lat in zip(bus_stops_coords_lngs_component_periphery[len(node_periphery_bus[0]):(len(node_periphery_bus[0])+len(node_periphery_bus[1]))],\n",
    "                    bus_stops_coords_lats_component_periphery[len(node_periphery_bus[0]):(len(node_periphery_bus[0])+len(node_periphery_bus[1]))]):\n",
    "    folium.Circle([lat, lng], radius=50, color='#3186cc').add_to(map_osm)\n",
    "    ##Blue dots is the disconnected component 2\n",
    "    \n",
    "for lng, lat in zip(bus_stops_coords_lngs_component_periphery[(len(node_periphery_bus[0])+len(node_periphery_bus[1])):],\n",
    "                    bus_stops_coords_lats_component_periphery[(len(node_periphery_bus[0])+len(node_periphery_bus[1])):]):\n",
    "    folium.Circle([lat, lng], radius=50,color='#f40101').add_to(map_osm)\n",
    "    ##Red dots is the disconnected component 3\n",
    "    \n",
    "map_osm"
   ]
  },
  {
   "cell_type": "code",
   "execution_count": null,
   "metadata": {},
   "outputs": [],
   "source": [
    "compt=0\n",
    "for i in node_periphery_bus:\n",
    "    print('DISCONNEX COMPONENT',compt+1)\n",
    "    for j in range(0,len(i)):\n",
    "        if i[j]!=3034:\n",
    "            print(bus_stations_properties[i[j]]['street_name'])\n",
    "    compt+=1;\n",
    "    print('\\n')"
   ]
  },
  {
   "cell_type": "markdown",
   "metadata": {},
   "source": [
    "#### Degree distributions"
   ]
  },
  {
   "cell_type": "code",
   "execution_count": null,
   "metadata": {},
   "outputs": [],
   "source": [
    "a=nx.degree_histogram(G_bus)\n",
    "totalnodes=0\n",
    "for i in range(len(a)):\n",
    "    totalnodes+=a[i]*i"
   ]
  },
  {
   "cell_type": "code",
   "execution_count": null,
   "metadata": {},
   "outputs": [],
   "source": [
    "plt.figure(figsize=(20,10))\n",
    "\n",
    "plt.subplot(121)\n",
    "distdegree=np.asarray(a)/totalnodes\n",
    "#b=np.arange(len(a))\n",
    "plt.plot(distdegree, 'bo')\n",
    "plt.semilogy()\n",
    "plt.semilogx()\n",
    "plt.xlim(0, 50)\n",
    "plt.ylim(-5, 1)\n",
    "plt.title('Degree distribution using semilog',fontsize=15)\n",
    "plt.xlabel('Degree')\n",
    "plt.ylabel('P(k)')\n",
    "\n",
    "plt.subplot(122)\n",
    "distdegree=np.asarray(a)/totalnodes\n",
    "#b=np.arange(len(a))\n",
    "plt.plot(distdegree, 'bo')\n",
    "#plt.semilogy()\n",
    "#plt.semilogx()\n",
    "plt.xlim(0, 15)\n",
    "plt.ylim(-0.5, 1)\n",
    "plt.title('Degree distribution',fontsize=15)\n",
    "plt.xlabel('Degree')\n",
    "plt.ylabel('P(k)')\n",
    "\n",
    "plt.show()"
   ]
  },
  {
   "cell_type": "markdown",
   "metadata": {},
   "source": [
    "We omit values 0 and 1 for the degree since we do not have any node with that characteristics and it difficults the task of identify the curve parameters."
   ]
  },
  {
   "cell_type": "code",
   "execution_count": null,
   "metadata": {},
   "outputs": [],
   "source": [
    "import numpy as np\n",
    "import matplotlib.pyplot as plt\n",
    "from scipy.optimize import curve_fit\n",
    "\n",
    "\n",
    "def func(x, a, b):\n",
    "    return a *(x**(-b))\n",
    "\n",
    "xdata = np.arange(2,11)\n",
    "y = distdegree[2:]\n",
    "np.random.seed(1729)\n",
    "#y_noise = 0.0002 * np.random.normal(size=xdata.size)\n",
    "ydata = y\n",
    "popt, pcov = curve_fit(func, xdata, ydata)\n",
    "print('a=%5.3f, b=%5.3f' % tuple(popt))\n",
    "      \n",
    "      \n",
    "plt.plot(xdata, ydata, 'b-', label='Degree distribution')\n",
    "plt.plot(xdata,func(xdata, *popt), '--',color='red',label='y=1.798*(x^{-2.819})')\n",
    "plt.legend(loc='upper right')"
   ]
  },
  {
   "cell_type": "code",
   "execution_count": null,
   "metadata": {},
   "outputs": [],
   "source": [
    "print(nx.info(G_bus))"
   ]
  },
  {
   "cell_type": "markdown",
   "metadata": {},
   "source": [
    "### Clustering"
   ]
  },
  {
   "cell_type": "markdown",
   "metadata": {},
   "source": [
    "#### Triangles"
   ]
  },
  {
   "cell_type": "code",
   "execution_count": null,
   "metadata": {},
   "outputs": [],
   "source": [
    "node_triangles_bus = []\n",
    "for g in nx.connected_component_subgraphs(G_bus): \n",
    "    node_triangles_bus.append(nx.triangles(g)) \n",
    "\n",
    "#   \n",
    "#print(\"Triangles per connected component: {}\".format(node_triangles_bus))\n",
    "#print(\"Average diameter in bus network: {}\".format(np.mean(node_triangles_bus)))"
   ]
  },
  {
   "cell_type": "code",
   "execution_count": null,
   "metadata": {},
   "outputs": [],
   "source": [
    "component_node_triangles_bus=[]\n",
    "bus_stops_coords_lngs_node_triangles_bus1=[]\n",
    "bus_stops_coords_lats_node_triangles_bus1=[]\n",
    "bus_stops_coords_lngs_node_triangles_bus2=[]\n",
    "bus_stops_coords_lats_node_triangles_bus2=[]\n",
    "bus_stops_coords_lngs_node_triangles_bus3=[]\n",
    "bus_stops_coords_lats_node_triangles_bus3=[]\n",
    "compt=0\n",
    "for i in node_triangles_bus[0]:\n",
    "    try:\n",
    "        if list(node_triangles_bus[0].values())[compt]==1:\n",
    "            bus_stops_coords_lngs_node_triangles_bus1.append(float(bus_stations_properties[i]['lon']))\n",
    "            bus_stops_coords_lats_node_triangles_bus1.append(float(bus_stations_properties[i]['lat']))\n",
    "        elif list(node_triangles_bus[0].values())[compt]==2:\n",
    "            bus_stops_coords_lngs_node_triangles_bus2.append(float(bus_stations_properties[i]['lon']))\n",
    "            bus_stops_coords_lats_node_triangles_bus2.append(float(bus_stations_properties[i]['lat']))\n",
    "        elif list(node_triangles_bus[0].values())[compt]==3:\n",
    "            bus_stops_coords_lngs_node_triangles_bus3.append(float(bus_stations_properties[i]['lon']))\n",
    "            bus_stops_coords_lats_node_triangles_bus3.append(float(bus_stations_properties[i]['lat']))\n",
    "    except KeyError:\n",
    "        pass\n",
    "    compt+=1;"
   ]
  },
  {
   "cell_type": "code",
   "execution_count": null,
   "metadata": {},
   "outputs": [],
   "source": [
    "## Plotting the bus stops on a map\n",
    "map_osm = folium.Map(location=[41.387084, 2.169792], zoom_start=12)\n",
    "\n",
    "##for the nodes that are triangles 1\n",
    "for lng, lat in zip(bus_stops_coords_lngs_node_triangles_bus1,\n",
    "                         bus_stops_coords_lats_node_triangles_bus1):\n",
    "    folium.Circle([lat, lng], radius=50, color='#00ff2b').add_to(map_osm)\n",
    "\n",
    "##for the nodes that are triangles 2\n",
    "for lng, lat in zip(bus_stops_coords_lngs_node_triangles_bus2,\n",
    "                         bus_stops_coords_lats_node_triangles_bus2):\n",
    "    folium.Circle([lat, lng], radius=50, color='#0b9422').add_to(map_osm)\n",
    "\n",
    "##for the nodes that are triangles 3\n",
    "for lng, lat in zip(bus_stops_coords_lngs_node_triangles_bus3,\n",
    "                         bus_stops_coords_lats_node_triangles_bus3):\n",
    "    folium.Circle([lat, lng], radius=50, color='#032709').add_to(map_osm)\n",
    "\n",
    "\n",
    "#for lng, lat in zip(bus_stops_coords_lngs_component1,\n",
    "#                         bus_stops_coords_lats_components1):\n",
    "#    folium.Circle([lat, lng], radius=50, color='#27cc53').add_to(map_osm)\n",
    "    \n",
    "\n",
    "#for lng, lat in zip(bus_stops_coords_lngs_component2,\n",
    "#                         bus_stops_coords_lats_components2):\n",
    "#    folium.Circle([lat, lng], radius=50, color='#3186cc').add_to(map_osm)\n",
    "    ##Blue dots is the disconnected component 2\n",
    "    \n",
    "#for lng, lat in zip(bus_stops_coords_lngs_component3,\n",
    "#                         bus_stops_coords_lats_components3):\n",
    "#    folium.Circle([lat, lng], radius=50,color='#f40101').add_to(map_osm)\n",
    "    ##Red dots is the disconnected component 3\n",
    "    \n",
    "map_osm"
   ]
  },
  {
   "cell_type": "code",
   "execution_count": null,
   "metadata": {},
   "outputs": [],
   "source": [
    "triangleCount1 = collections.Counter(list(node_triangles_bus[0].values()))\n",
    "print('Component 1:',triangleCount1)\n",
    "triangleCount2 = collections.Counter(list(node_triangles_bus[1].values()))\n",
    "print('Component 2:',triangleCount2)\n",
    "triangleCount3 = collections.Counter(list(node_triangles_bus[2].values()))\n",
    "print('Component 3:',triangleCount3)\n",
    "#deg, cnt = zip(*degreeCount.items())"
   ]
  },
  {
   "cell_type": "code",
   "execution_count": null,
   "metadata": {},
   "outputs": [],
   "source": [
    "f, axarr = plt.subplots(1, 3,figsize=(15,6))\n",
    "axarr[0].hist(list(node_triangles_bus[0].values()),label='0: 2279, 1: 73, 2: 4, 3: 1')\n",
    "axarr[1].hist(list(node_triangles_bus[1].values()),label='0: 22')\n",
    "axarr[2].hist(list(node_triangles_bus[2].values()),label='0: 90')\n",
    "axarr[0].set_title('Histogram triangles dis.comp. 1')\n",
    "axarr[1].set_title('Histogram triangles dis.comp. 2')\n",
    "axarr[2].set_title('Histogram triangles dis.comp. 3')\n",
    "axarr[0].legend(loc='upper right')\n",
    "axarr[1].legend(loc='upper right')\n",
    "axarr[2].legend(loc='upper right')\n",
    "plt.show()"
   ]
  },
  {
   "cell_type": "code",
   "execution_count": null,
   "metadata": {},
   "outputs": [],
   "source": [
    "node_triangles_bus=nx.triangles(G_bus)\n",
    "pos = nx.spring_layout(G_bus)\n",
    "plt.figure(figsize=(20,10))\n",
    "\n",
    "plt.subplot(121)\n",
    "plt.axis('off')\n",
    "nx.draw_networkx_edges(G_bus, pos=pos, edge_color='#c1c1c1', alpha=.3)\n",
    "scores = dict(node_triangles_bus)\n",
    "nodelist = sorted(G_bus.nodes(), key=lambda n: scores[n])\n",
    "ncolor = np.asarray([scores[n] for n in nodelist])\n",
    "nodes = nx.draw_networkx_nodes(G_bus, nodelist=nodelist, pos=pos, node_size=150, cmap=plt.cm.jet, node_color=ncolor, alpha=0.7)\n",
    "plt.colorbar(nodes, cmap=plt.cm.jet, orientation='horizontal')\n",
    "\n",
    "plt.subplot(122)\n",
    "score_array = np.array(list(scores.values()))\n",
    "plt.hist(score_array,bins=100)\n",
    "plt.show()"
   ]
  },
  {
   "cell_type": "markdown",
   "metadata": {},
   "source": [
    "#### Clustering"
   ]
  },
  {
   "cell_type": "markdown",
   "metadata": {},
   "source": [
    "Compute the clustering coefficient for nodes. For unweighted graphs, such our case ,the clustering of a node $i$ is the fraction of possible triangles through that node that exist,\n",
    "\n",
    "$$C_{i}=\\frac{\\# \\text{triangles connected to i}}{\\# \\text{possible triangles connected to i}}=\\frac{2 E_{i}}{k_{i}(k_{i}-1)}$$"
   ]
  },
  {
   "cell_type": "code",
   "execution_count": null,
   "metadata": {},
   "outputs": [],
   "source": [
    "node_clustering_bus = []\n",
    "for g in nx.connected_component_subgraphs(G_bus): \n",
    "    node_clustering_bus.append(nx.clustering(g)) \n",
    "\n",
    "   \n",
    "# \n",
    "#print(\"Triangles per connected component: {}\".format(node_clustering_bus))"
   ]
  },
  {
   "cell_type": "code",
   "execution_count": null,
   "metadata": {},
   "outputs": [],
   "source": [
    "f, axarr = plt.subplots(1, 3,figsize=(15,6))\n",
    "axarr[0].hist(list(node_clustering_bus[0].values()))\n",
    "axarr[1].hist(list(node_clustering_bus[1].values()))\n",
    "axarr[2].hist(list(node_clustering_bus[2].values()))\n",
    "axarr[0].set_title('Histogram triangles dis.comp. 1')\n",
    "axarr[1].set_title('Histogram triangles dis.comp. 2')\n",
    "axarr[2].set_title('Histogram triangles dis.comp. 3')\n",
    "plt.show()"
   ]
  },
  {
   "cell_type": "code",
   "execution_count": null,
   "metadata": {},
   "outputs": [],
   "source": [
    "node_clustering_bus=nx.clustering(G_bus)"
   ]
  },
  {
   "cell_type": "code",
   "execution_count": null,
   "metadata": {},
   "outputs": [],
   "source": [
    "pos = nx.spring_layout(G_bus)\n",
    "plt.figure(figsize=(20,10))\n",
    "\n",
    "plt.subplot(121)\n",
    "plt.axis('off')\n",
    "nx.draw_networkx_edges(G_bus, pos=pos, edge_color='#c1c1c1', alpha=.3)\n",
    "scores = dict(node_clustering_bus)\n",
    "nodelist = sorted(G_bus.nodes(), key=lambda n: scores[n])\n",
    "ncolor = np.asarray([scores[n] for n in nodelist])\n",
    "nodes = nx.draw_networkx_nodes(G_bus, nodelist=nodelist, pos=pos, node_size=150, cmap=plt.cm.jet, node_color=ncolor, alpha=0.7)\n",
    "plt.colorbar(nodes, cmap=plt.cm.jet, orientation='horizontal')\n",
    "\n",
    "plt.subplot(122)\n",
    "score_array = np.array(list(scores.values()))\n",
    "plt.hist(score_array,bins=100)\n",
    "plt.show()"
   ]
  },
  {
   "cell_type": "markdown",
   "metadata": {},
   "source": [
    "#### Average Clustering"
   ]
  },
  {
   "cell_type": "markdown",
   "metadata": {},
   "source": [
    "Compute the average clustering coefficient for the graph G. The clustering coefficient for the graph is the average:\n",
    "\n",
    "$$C=\\frac{1}{n} \\sum_{v \\in G}c_{v}$$"
   ]
  },
  {
   "cell_type": "code",
   "execution_count": null,
   "metadata": {},
   "outputs": [],
   "source": [
    "node_average_clustering_bus=nx.average_clustering(G_bus)"
   ]
  },
  {
   "cell_type": "code",
   "execution_count": null,
   "metadata": {},
   "outputs": [],
   "source": [
    "node_average_clustering_bus = []\n",
    "for g in nx.connected_component_subgraphs(G_bus): \n",
    "    node_average_clustering_bus.append(nx.average_clustering(g)) \n",
    "\n",
    "   \n",
    "print(\"Average clustering per connected component: {}\".format(node_average_clustering_bus))"
   ]
  },
  {
   "cell_type": "code",
   "execution_count": null,
   "metadata": {},
   "outputs": [],
   "source": [
    "# To be sent:\n",
    "    # Number nodes: 2469\n",
    "    # Number links: 3127\n",
    "    # Grado medio: 2.5330"
   ]
  },
  {
   "cell_type": "markdown",
   "metadata": {},
   "source": [
    "#  --------- Others --------- "
   ]
  },
  {
   "cell_type": "markdown",
   "metadata": {},
   "source": [
    "## Community Detection"
   ]
  },
  {
   "cell_type": "code",
   "execution_count": null,
   "metadata": {},
   "outputs": [],
   "source": [
    "communities_generator = community.girvan_newman(G_bus)\n",
    "top_level_communities = next(communities_generator)\n",
    "next_level_communities = next(communities_generator)\n",
    "parts = sorted(map(sorted, next_level_communities))"
   ]
  },
  {
   "cell_type": "code",
   "execution_count": null,
   "metadata": {},
   "outputs": [],
   "source": [
    "node_communities = [0]*len(nodes)\n",
    "for idx,c in enumerate(parts):\n",
    "    for n in c:\n",
    "        node_communities[nodes.index(n)] = idx\n",
    "     "
   ]
  },
  {
   "cell_type": "code",
   "execution_count": null,
   "metadata": {},
   "outputs": [],
   "source": [
    "plotNetwork(G_bus,node_communities)"
   ]
  },
  {
   "cell_type": "code",
   "execution_count": null,
   "metadata": {},
   "outputs": [],
   "source": [
    "help(community)"
   ]
  },
  {
   "cell_type": "markdown",
   "metadata": {},
   "source": []
  },
  {
   "cell_type": "code",
   "execution_count": null,
   "metadata": {},
   "outputs": [],
   "source": [
    "coeff = [0.25, 1, 1]\n",
    "np.roots(coeff)"
   ]
  },
  {
   "cell_type": "code",
   "execution_count": null,
   "metadata": {},
   "outputs": [],
   "source": [
    "zreal=np.real(np.roots(coeff)[1])\n",
    "zreal"
   ]
  },
  {
   "cell_type": "code",
   "execution_count": null,
   "metadata": {},
   "outputs": [],
   "source": [
    "zimag=np.imag(np.roots(coeff)[1])\n",
    "zimag"
   ]
  },
  {
   "cell_type": "code",
   "execution_count": null,
   "metadata": {},
   "outputs": [],
   "source": [
    "np.sqrt((zreal)**2 +(zimag)**2)"
   ]
  },
  {
   "cell_type": "code",
   "execution_count": null,
   "metadata": {},
   "outputs": [],
   "source": []
  }
 ],
 "metadata": {
  "anaconda-cloud": {},
  "kernelspec": {
   "display_name": "Python 3",
   "language": "python",
   "name": "python3"
  },
  "language_info": {
   "codemirror_mode": {
    "name": "ipython",
    "version": 3
   },
   "file_extension": ".py",
   "mimetype": "text/x-python",
   "name": "python",
   "nbconvert_exporter": "python",
   "pygments_lexer": "ipython3",
   "version": "3.6.4"
  }
 },
 "nbformat": 4,
 "nbformat_minor": 2
}
